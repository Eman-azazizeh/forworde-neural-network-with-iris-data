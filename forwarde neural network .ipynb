{
 "cells": [
  {
   "cell_type": "code",
   "execution_count": 1,
   "id": "d34361fb",
   "metadata": {},
   "outputs": [],
   "source": [
    "from __future__ import print_function\n",
    "from builtins import range\n"
   ]
  },
  {
   "cell_type": "code",
   "execution_count": 2,
   "id": "32ebe7ab",
   "metadata": {},
   "outputs": [],
   "source": [
    "\"\"\"\n",
    "SECTION 1 : Load and setup data for training\n",
    "\n",
    "\"\"\"\n",
    "import pandas as pd\n",
    "import numpy as np\n"
   ]
  },
  {
   "cell_type": "code",
   "execution_count": 3,
   "id": "5d485d24",
   "metadata": {},
   "outputs": [],
   "source": [
    "# Data sets\n",
    "IRIS_TRAINING = \"train.txt\"\n",
    "IRIS_TEST = \"test.txt\"\n",
    "train_data = np.genfromtxt(IRIS_TRAINING, skip_header=1, \n",
    "    dtype=float, delimiter=';')\n",
    "test_data = np.genfromtxt(IRIS_TEST, skip_header=1, \n",
    "    dtype=float, delimiter=';')\n"
   ]
  },
  {
   "cell_type": "code",
   "execution_count": 4,
   "id": "edb9a69b",
   "metadata": {},
   "outputs": [
    {
     "name": "stdout",
     "output_type": "stream",
     "text": [
      "[1. 1. 1. ... 1. 1. 1.]\n"
     ]
    }
   ],
   "source": [
    "#split x and y (feature and target)\n",
    "xtrain = train_data[:,:4000]\n",
    "ytrain = train_data[:,4001]\n",
    "print(ytrain)"
   ]
  },
  {
   "cell_type": "code",
   "execution_count": 5,
   "id": "3ea578c2",
   "metadata": {},
   "outputs": [
    {
     "data": {
      "text/plain": [
       "'\\nSECTION 2 : Build and Train Model\\n\\nMultilayer perceptron model, with one hidden layer.\\ninput layer : 4 neuron, represents the feature of Iris\\nhidden layer : 3 neuron, activation using ReLU\\noutput layer : 3 neuron, represents the class of Iris\\n\\noptimizer = stochastic gradient descent with no batch-size\\nloss function = categorical cross entropy\\nepoch = 50\\n'"
      ]
     },
     "execution_count": 5,
     "metadata": {},
     "output_type": "execute_result"
    }
   ],
   "source": [
    "\"\"\"\n",
    "SECTION 2 : Build and Train Model\n",
    "\n",
    "Multilayer perceptron model, with one hidden layer.\n",
    "input layer : 4 neuron, represents the feature of Iris\n",
    "hidden layer : 3 neuron, activation using ReLU\n",
    "output layer : 3 neuron, represents the class of Iris\n",
    "\n",
    "optimizer = stochastic gradient descent with no batch-size\n",
    "loss function = categorical cross entropy\n",
    "epoch = 50\n",
    "\"\"\""
   ]
  },
  {
   "cell_type": "code",
   "execution_count": 6,
   "id": "cfc42be6",
   "metadata": {},
   "outputs": [
    {
     "data": {
      "text/plain": [
       "<torch._C.Generator at 0x1b2621c8b50>"
      ]
     },
     "execution_count": 6,
     "metadata": {},
     "output_type": "execute_result"
    }
   ],
   "source": [
    "import torch\n",
    "import torch.nn as nn\n",
    "import torch.nn.functional as F\n",
    "torch.manual_seed(1457)\n"
   ]
  },
  {
   "cell_type": "code",
   "execution_count": 7,
   "id": "c66b1e1a",
   "metadata": {},
   "outputs": [],
   "source": [
    "#hyperparameters\n",
    "hl1 = 20\n",
    "hl2 = 20\n",
    "#hl3 = 20\n",
    "lr = 0.2\n",
    "num_epoch = 1500\n"
   ]
  },
  {
   "cell_type": "code",
   "execution_count": 8,
   "id": "df727428",
   "metadata": {},
   "outputs": [],
   "source": [
    "#build model\n",
    "class Net(nn.Module):\n",
    "\n",
    "    def __init__(self):\n",
    "        super(Net, self).__init__()\n",
    "        self.fc1 = nn.Linear(4000, hl1)\n",
    "        self.fc3 = nn.Linear(hl1,hl2)\n",
    "        self.fc2 = nn.Linear(hl2, 2)\n",
    "\n",
    "    def forward(self, x):\n",
    "        x = F.relu(self.fc1(x))\n",
    "        x = F.relu(self.fc3(x))\n",
    "       \n",
    "        x = self.fc2(x)\n",
    "        return x\n",
    "        \n",
    "net = Net()"
   ]
  },
  {
   "cell_type": "code",
   "execution_count": 9,
   "id": "e991a960",
   "metadata": {},
   "outputs": [],
   "source": [
    "#choose optimizer and loss function\n",
    "criterion = nn.CrossEntropyLoss()\n",
    "#optimizer = torch.optim.SGD(net.parameters(), lr=lr)\n",
    "#optimizer = torch.optim.Adagrad(net.parameters(), lr=lr)\n",
    "optimizer = torch.optim.Adam(net.parameters(), lr=lr)\n",
    "#optimizer = torch.optim.SGD(net.parameters(), lr=lr, momentum=0.9)\n",
    "#optimizer = torch.optim.RMSprop(net.parameters(), lr=lr)"
   ]
  },
  {
   "cell_type": "code",
   "execution_count": 10,
   "id": "73b4e9af",
   "metadata": {
    "scrolled": false
   },
   "outputs": [
    {
     "name": "stdout",
     "output_type": "stream",
     "text": [
      "Epoch [2/1500] Loss: 0.4047   Acc: 89.1921\n",
      "Epoch [52/1500] Loss: 0.3104   Acc: 89.1921\n",
      "Epoch [102/1500] Loss: 0.2639   Acc: 89.9411\n",
      "Epoch [152/1500] Loss: 0.3214   Acc: 89.5131\n",
      "Epoch [202/1500] Loss: 0.3139   Acc: 89.6201\n",
      "Epoch [252/1500] Loss: 0.3222   Acc: 89.6201\n",
      "Epoch [302/1500] Loss: 0.3175   Acc: 89.6201\n",
      "Epoch [352/1500] Loss: 0.3212   Acc: 89.6201\n",
      "Epoch [402/1500] Loss: 0.3141   Acc: 89.6736\n",
      "Epoch [452/1500] Loss: 0.2975   Acc: 89.6736\n",
      "Epoch [502/1500] Loss: 0.2931   Acc: 89.6736\n",
      "Epoch [552/1500] Loss: 0.2873   Acc: 89.6736\n",
      "Epoch [602/1500] Loss: 0.2790   Acc: 89.6736\n",
      "Epoch [652/1500] Loss: 0.3052   Acc: 89.6736\n",
      "Epoch [702/1500] Loss: 0.3118   Acc: 89.6736\n",
      "Epoch [752/1500] Loss: 0.3179   Acc: 89.6736\n",
      "Epoch [802/1500] Loss: 0.3175   Acc: 89.6736\n",
      "Epoch [852/1500] Loss: 0.3171   Acc: 89.6736\n",
      "Epoch [902/1500] Loss: 0.3169   Acc: 89.6736\n",
      "Epoch [952/1500] Loss: 0.3157   Acc: 89.6736\n",
      "Epoch [1002/1500] Loss: 0.3033   Acc: 89.6736\n",
      "Epoch [1052/1500] Loss: 0.3185   Acc: 89.6736\n",
      "Epoch [1102/1500] Loss: 0.3182   Acc: 89.6736\n",
      "Epoch [1152/1500] Loss: 0.3179   Acc: 89.6736\n",
      "Epoch [1202/1500] Loss: 0.3176   Acc: 89.6736\n",
      "Epoch [1252/1500] Loss: 0.3173   Acc: 89.6736\n",
      "Epoch [1302/1500] Loss: 0.3170   Acc: 89.6736\n",
      "Epoch [1352/1500] Loss: 0.3166   Acc: 89.6736\n",
      "Epoch [1402/1500] Loss: 0.3155   Acc: 89.6736\n",
      "Epoch [1452/1500] Loss: 0.3056   Acc: 89.6736\n"
     ]
    }
   ],
   "source": [
    "#train\n",
    "for epoch in range(num_epoch):\n",
    "    X = torch.Tensor(xtrain).float()\n",
    "    Y = torch.Tensor(ytrain).long()\n",
    "\n",
    "    #feedforward - backprop\n",
    "    optimizer.zero_grad()\n",
    "    out = net(X)\n",
    "    loss = criterion(out, Y)\n",
    "    loss.backward()\n",
    "    optimizer.step()\n",
    "    acc = 100 * torch.sum(Y==torch.max(out.data, 1)[1]).double() / len(Y)\n",
    "    if (epoch % 50 == 1):\n",
    "\t    print ('Epoch [%d/%d] Loss: %.4f   Acc: %.4f' \n",
    "                   %(epoch+1, num_epoch, loss.item(), acc.item()))\n",
    "\n"
   ]
  },
  {
   "cell_type": "code",
   "execution_count": 11,
   "id": "c953b22b",
   "metadata": {},
   "outputs": [
    {
     "data": {
      "text/plain": [
       "'\\nSECTION 3 : Testing model\\n'"
      ]
     },
     "execution_count": 11,
     "metadata": {},
     "output_type": "execute_result"
    }
   ],
   "source": [
    "\"\"\"\n",
    "SECTION 3 : Testing model\n",
    "\"\"\"\n"
   ]
  },
  {
   "cell_type": "code",
   "execution_count": 12,
   "id": "2ea0b26e",
   "metadata": {},
   "outputs": [],
   "source": [
    "#split x and y (feature and target)\n",
    "xtest = test_data[:,:4000]\n",
    "ytest = test_data[:,4001]\n"
   ]
  },
  {
   "cell_type": "code",
   "execution_count": 13,
   "id": "d4eb1e27",
   "metadata": {},
   "outputs": [],
   "source": [
    "#get prediction\n",
    "X = torch.Tensor(xtest).float()\n",
    "Y = torch.Tensor(ytest).long()\n",
    "out = net(X)\n",
    "_, predicted = torch.max(out.data, 1)\n"
   ]
  },
  {
   "cell_type": "code",
   "execution_count": 14,
   "id": "ef6b32e3",
   "metadata": {},
   "outputs": [
    {
     "name": "stdout",
     "output_type": "stream",
     "text": [
      "Accuracy of testing 96.9957 %\n"
     ]
    }
   ],
   "source": [
    "#get accuration\n",
    "print('Accuracy of testing %.4f %%' % (100 * torch.sum(Y==predicted).double() / len(Y)))"
   ]
  }
 ],
 "metadata": {
  "kernelspec": {
   "display_name": "Python 3 (ipykernel)",
   "language": "python",
   "name": "python3"
  },
  "language_info": {
   "codemirror_mode": {
    "name": "ipython",
    "version": 3
   },
   "file_extension": ".py",
   "mimetype": "text/x-python",
   "name": "python",
   "nbconvert_exporter": "python",
   "pygments_lexer": "ipython3",
   "version": "3.9.7"
  }
 },
 "nbformat": 4,
 "nbformat_minor": 5
}
